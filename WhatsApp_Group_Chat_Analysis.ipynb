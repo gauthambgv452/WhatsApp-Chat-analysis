{
 "cells": [
  {
   "cell_type": "code",
   "execution_count": 1,
   "metadata": {},
   "outputs": [],
   "source": [
    "import os\n",
    "import re\n",
    "import pandas as pd\n",
    "import numpy as np\n",
    "\n",
    "WhatsAppChat_file = 'C:\\\\Users\\\\Gautham\\\\Downloads\\\\Datasets\\\\WhatsappDataAnalysis\\\\My_School_data.txt'\n",
    "\n",
    "if os.path.exists(WhatsAppChat_file):\n",
    "        file_data = open(WhatsAppChat_file,'r', encoding=\"utf8\")\n",
    "        txtstr = file_data.read()\n",
    "\n",
    "# Get date\n",
    "date_regex = re.compile(r'(\\d+/\\d+/\\d+)')\n",
    "date = date_regex.findall(txtstr)"
   ]
  },
  {
   "cell_type": "code",
   "execution_count": 2,
   "metadata": {},
   "outputs": [],
   "source": [
    "# Get time\n",
    "time_regex=re.compile(r'\\d{1,2}:\\d{2} AM|\\d{1,2}:\\d{2} PM')\n",
    "time=time_regex.findall(txtstr)"
   ]
  },
  {
   "cell_type": "code",
   "execution_count": 3,
   "metadata": {},
   "outputs": [],
   "source": [
    "# Get Users\n",
    "user_regex=re.compile(r'-(.*?):')\n",
    "user=user_regex.findall(txtstr)"
   ]
  },
  {
   "cell_type": "code",
   "execution_count": 4,
   "metadata": {},
   "outputs": [],
   "source": [
    "# Get Message\n",
    "message_regex=re.compile(r'([^:]+):?$')\n",
    "me_regex=re.compile(r\"(\\n)(?<=)(\\d+/\\d+/\\d+)(.*)\")\n",
    "mess=me_regex.findall(txtstr)\n",
    "message = [''.join(message_regex.findall(''.join(msg))).strip() for msg in mess]"
   ]
  },
  {
   "cell_type": "code",
   "execution_count": 5,
   "metadata": {},
   "outputs": [],
   "source": [
    "# Zip date,time,user,message together\n",
    "data=[]\n",
    "for w,x,y,z in zip(date,time,user,message):\n",
    "    data.append([w,x,y,z])"
   ]
  },
  {
   "cell_type": "code",
   "execution_count": 6,
   "metadata": {},
   "outputs": [
    {
     "data": {
      "text/html": [
       "<div>\n",
       "<style scoped>\n",
       "    .dataframe tbody tr th:only-of-type {\n",
       "        vertical-align: middle;\n",
       "    }\n",
       "\n",
       "    .dataframe tbody tr th {\n",
       "        vertical-align: top;\n",
       "    }\n",
       "\n",
       "    .dataframe thead th {\n",
       "        text-align: right;\n",
       "    }\n",
       "</style>\n",
       "<table border=\"1\" class=\"dataframe\">\n",
       "  <thead>\n",
       "    <tr style=\"text-align: right;\">\n",
       "      <th></th>\n",
       "      <th>Date</th>\n",
       "      <th>Time</th>\n",
       "      <th>User</th>\n",
       "      <th>Message</th>\n",
       "    </tr>\n",
       "  </thead>\n",
       "  <tbody>\n",
       "    <tr>\n",
       "      <th>0</th>\n",
       "      <td>9/17/17</td>\n",
       "      <td>11:39 PM</td>\n",
       "      <td>Ram Kumar K Old</td>\n",
       "      <td>Iyo arikuthe</td>\n",
       "    </tr>\n",
       "    <tr>\n",
       "      <th>1</th>\n",
       "      <td>9/17/17</td>\n",
       "      <td>11:39 PM</td>\n",
       "      <td>Saravanan New</td>\n",
       "      <td>U people go n enjoy..tats OK for me</td>\n",
       "    </tr>\n",
       "    <tr>\n",
       "      <th>2</th>\n",
       "      <td>9/17/17</td>\n",
       "      <td>11:40 PM</td>\n",
       "      <td>Ram Kumar K Old</td>\n",
       "      <td>Guys tour plan maximum I'll not be able to mak...</td>\n",
       "    </tr>\n",
       "    <tr>\n",
       "      <th>3</th>\n",
       "      <td>9/18/17</td>\n",
       "      <td>9:23 PM</td>\n",
       "      <td>Gautham BGV O+</td>\n",
       "      <td>Ena da ellarum ipadi panringa</td>\n",
       "    </tr>\n",
       "    <tr>\n",
       "      <th>4</th>\n",
       "      <td>9/18/17</td>\n",
       "      <td>9:24 PM</td>\n",
       "      <td>Raj Loyola</td>\n",
       "      <td>Namba polam da</td>\n",
       "    </tr>\n",
       "  </tbody>\n",
       "</table>\n",
       "</div>"
      ],
      "text/plain": [
       "      Date      Time              User  \\\n",
       "0  9/17/17  11:39 PM   Ram Kumar K Old   \n",
       "1  9/17/17  11:39 PM     Saravanan New   \n",
       "2  9/17/17  11:40 PM   Ram Kumar K Old   \n",
       "3  9/18/17   9:23 PM    Gautham BGV O+   \n",
       "4  9/18/17   9:24 PM        Raj Loyola   \n",
       "\n",
       "                                             Message  \n",
       "0                                       Iyo arikuthe  \n",
       "1                U people go n enjoy..tats OK for me  \n",
       "2  Guys tour plan maximum I'll not be able to mak...  \n",
       "3                      Ena da ellarum ipadi panringa  \n",
       "4                                     Namba polam da  "
      ]
     },
     "execution_count": 6,
     "metadata": {},
     "output_type": "execute_result"
    }
   ],
   "source": [
    "# Create DataFrame from WhatsApp content\n",
    "df=pd.DataFrame(data,columns=(\"Date\",\"Time\",\"User\",\"Message\"))\n",
    "df.head()"
   ]
  },
  {
   "cell_type": "code",
   "execution_count": 7,
   "metadata": {},
   "outputs": [
    {
     "data": {
      "text/html": [
       "<div>\n",
       "<style scoped>\n",
       "    .dataframe tbody tr th:only-of-type {\n",
       "        vertical-align: middle;\n",
       "    }\n",
       "\n",
       "    .dataframe tbody tr th {\n",
       "        vertical-align: top;\n",
       "    }\n",
       "\n",
       "    .dataframe thead th {\n",
       "        text-align: right;\n",
       "    }\n",
       "</style>\n",
       "<table border=\"1\" class=\"dataframe\">\n",
       "  <thead>\n",
       "    <tr style=\"text-align: right;\">\n",
       "      <th></th>\n",
       "      <th>Date</th>\n",
       "      <th>Time</th>\n",
       "      <th>User</th>\n",
       "      <th>Message</th>\n",
       "    </tr>\n",
       "  </thead>\n",
       "  <tbody>\n",
       "    <tr>\n",
       "      <th>0</th>\n",
       "      <td>9/17/17</td>\n",
       "      <td>11:39 PM</td>\n",
       "      <td>Ram Kumar K Old</td>\n",
       "      <td>Iyo arikuthe</td>\n",
       "    </tr>\n",
       "    <tr>\n",
       "      <th>1</th>\n",
       "      <td>9/17/17</td>\n",
       "      <td>11:39 PM</td>\n",
       "      <td>Saravanan New</td>\n",
       "      <td>U people go n enjoy..tats OK for me</td>\n",
       "    </tr>\n",
       "    <tr>\n",
       "      <th>2</th>\n",
       "      <td>9/17/17</td>\n",
       "      <td>11:40 PM</td>\n",
       "      <td>Ram Kumar K Old</td>\n",
       "      <td>Guys tour plan maximum I'll not be able to mak...</td>\n",
       "    </tr>\n",
       "    <tr>\n",
       "      <th>3</th>\n",
       "      <td>9/18/17</td>\n",
       "      <td>9:23 PM</td>\n",
       "      <td>Gautham BGV O+</td>\n",
       "      <td>Ena da ellarum ipadi panringa</td>\n",
       "    </tr>\n",
       "    <tr>\n",
       "      <th>4</th>\n",
       "      <td>9/18/17</td>\n",
       "      <td>9:24 PM</td>\n",
       "      <td>Raj Loyola</td>\n",
       "      <td>Namba polam da</td>\n",
       "    </tr>\n",
       "  </tbody>\n",
       "</table>\n",
       "</div>"
      ],
      "text/plain": [
       "      Date      Time              User  \\\n",
       "0  9/17/17  11:39 PM   Ram Kumar K Old   \n",
       "1  9/17/17  11:39 PM     Saravanan New   \n",
       "2  9/17/17  11:40 PM   Ram Kumar K Old   \n",
       "3  9/18/17   9:23 PM    Gautham BGV O+   \n",
       "4  9/18/17   9:24 PM        Raj Loyola   \n",
       "\n",
       "                                             Message  \n",
       "0                                       Iyo arikuthe  \n",
       "1                U people go n enjoy..tats OK for me  \n",
       "2  Guys tour plan maximum I'll not be able to mak...  \n",
       "3                      Ena da ellarum ipadi panringa  \n",
       "4                                     Namba polam da  "
      ]
     },
     "execution_count": 7,
     "metadata": {},
     "output_type": "execute_result"
    }
   ],
   "source": [
    "# Let's clean our Message\n",
    "df['Message']=df['Message'].str.replace('\\'(.*?): ','')\n",
    "df.head()"
   ]
  },
  {
   "cell_type": "code",
   "execution_count": 8,
   "metadata": {},
   "outputs": [
    {
     "data": {
      "text/html": [
       "<div>\n",
       "<style scoped>\n",
       "    .dataframe tbody tr th:only-of-type {\n",
       "        vertical-align: middle;\n",
       "    }\n",
       "\n",
       "    .dataframe tbody tr th {\n",
       "        vertical-align: top;\n",
       "    }\n",
       "\n",
       "    .dataframe thead th {\n",
       "        text-align: right;\n",
       "    }\n",
       "</style>\n",
       "<table border=\"1\" class=\"dataframe\">\n",
       "  <thead>\n",
       "    <tr style=\"text-align: right;\">\n",
       "      <th></th>\n",
       "      <th>Date</th>\n",
       "      <th>Time</th>\n",
       "      <th>User</th>\n",
       "      <th>Message</th>\n",
       "      <th>Year</th>\n",
       "    </tr>\n",
       "  </thead>\n",
       "  <tbody>\n",
       "    <tr>\n",
       "      <th>0</th>\n",
       "      <td>2017-09-17</td>\n",
       "      <td>11:39 PM</td>\n",
       "      <td>Ram Kumar K Old</td>\n",
       "      <td>Iyo arikuthe</td>\n",
       "      <td>2017</td>\n",
       "    </tr>\n",
       "    <tr>\n",
       "      <th>1</th>\n",
       "      <td>2017-09-17</td>\n",
       "      <td>11:39 PM</td>\n",
       "      <td>Saravanan New</td>\n",
       "      <td>U people go n enjoy..tats OK for me</td>\n",
       "      <td>2017</td>\n",
       "    </tr>\n",
       "    <tr>\n",
       "      <th>2</th>\n",
       "      <td>2017-09-17</td>\n",
       "      <td>11:40 PM</td>\n",
       "      <td>Ram Kumar K Old</td>\n",
       "      <td>Guys tour plan maximum I'll not be able to mak...</td>\n",
       "      <td>2017</td>\n",
       "    </tr>\n",
       "    <tr>\n",
       "      <th>3</th>\n",
       "      <td>2017-09-18</td>\n",
       "      <td>9:23 PM</td>\n",
       "      <td>Gautham BGV O+</td>\n",
       "      <td>Ena da ellarum ipadi panringa</td>\n",
       "      <td>2017</td>\n",
       "    </tr>\n",
       "    <tr>\n",
       "      <th>4</th>\n",
       "      <td>2017-09-18</td>\n",
       "      <td>9:24 PM</td>\n",
       "      <td>Raj Loyola</td>\n",
       "      <td>Namba polam da</td>\n",
       "      <td>2017</td>\n",
       "    </tr>\n",
       "  </tbody>\n",
       "</table>\n",
       "</div>"
      ],
      "text/plain": [
       "        Date      Time              User  \\\n",
       "0 2017-09-17  11:39 PM   Ram Kumar K Old   \n",
       "1 2017-09-17  11:39 PM     Saravanan New   \n",
       "2 2017-09-17  11:40 PM   Ram Kumar K Old   \n",
       "3 2017-09-18   9:23 PM    Gautham BGV O+   \n",
       "4 2017-09-18   9:24 PM        Raj Loyola   \n",
       "\n",
       "                                             Message  Year  \n",
       "0                                       Iyo arikuthe  2017  \n",
       "1                U people go n enjoy..tats OK for me  2017  \n",
       "2  Guys tour plan maximum I'll not be able to mak...  2017  \n",
       "3                      Ena da ellarum ipadi panringa  2017  \n",
       "4                                     Namba polam da  2017  "
      ]
     },
     "execution_count": 8,
     "metadata": {},
     "output_type": "execute_result"
    }
   ],
   "source": [
    "# Get Year from Date\n",
    "df['Date'] = pd.to_datetime(df['Date'])\n",
    "df['Year']=df['Date'].dt.year\n",
    "df.head()"
   ]
  },
  {
   "cell_type": "code",
   "execution_count": 9,
   "metadata": {},
   "outputs": [
    {
     "data": {
      "text/html": [
       "<div>\n",
       "<style scoped>\n",
       "    .dataframe tbody tr th:only-of-type {\n",
       "        vertical-align: middle;\n",
       "    }\n",
       "\n",
       "    .dataframe tbody tr th {\n",
       "        vertical-align: top;\n",
       "    }\n",
       "\n",
       "    .dataframe thead th {\n",
       "        text-align: right;\n",
       "    }\n",
       "</style>\n",
       "<table border=\"1\" class=\"dataframe\">\n",
       "  <thead>\n",
       "    <tr style=\"text-align: right;\">\n",
       "      <th></th>\n",
       "      <th>Date</th>\n",
       "      <th>Time</th>\n",
       "      <th>User</th>\n",
       "      <th>Message</th>\n",
       "      <th>Year</th>\n",
       "      <th>Month</th>\n",
       "    </tr>\n",
       "  </thead>\n",
       "  <tbody>\n",
       "    <tr>\n",
       "      <th>0</th>\n",
       "      <td>2017-09-17</td>\n",
       "      <td>11:39 PM</td>\n",
       "      <td>Ram Kumar K Old</td>\n",
       "      <td>Iyo arikuthe</td>\n",
       "      <td>2017</td>\n",
       "      <td>9</td>\n",
       "    </tr>\n",
       "    <tr>\n",
       "      <th>1</th>\n",
       "      <td>2017-09-17</td>\n",
       "      <td>11:39 PM</td>\n",
       "      <td>Saravanan New</td>\n",
       "      <td>U people go n enjoy..tats OK for me</td>\n",
       "      <td>2017</td>\n",
       "      <td>9</td>\n",
       "    </tr>\n",
       "    <tr>\n",
       "      <th>2</th>\n",
       "      <td>2017-09-17</td>\n",
       "      <td>11:40 PM</td>\n",
       "      <td>Ram Kumar K Old</td>\n",
       "      <td>Guys tour plan maximum I'll not be able to mak...</td>\n",
       "      <td>2017</td>\n",
       "      <td>9</td>\n",
       "    </tr>\n",
       "    <tr>\n",
       "      <th>3</th>\n",
       "      <td>2017-09-18</td>\n",
       "      <td>9:23 PM</td>\n",
       "      <td>Gautham BGV O+</td>\n",
       "      <td>Ena da ellarum ipadi panringa</td>\n",
       "      <td>2017</td>\n",
       "      <td>9</td>\n",
       "    </tr>\n",
       "    <tr>\n",
       "      <th>4</th>\n",
       "      <td>2017-09-18</td>\n",
       "      <td>9:24 PM</td>\n",
       "      <td>Raj Loyola</td>\n",
       "      <td>Namba polam da</td>\n",
       "      <td>2017</td>\n",
       "      <td>9</td>\n",
       "    </tr>\n",
       "  </tbody>\n",
       "</table>\n",
       "</div>"
      ],
      "text/plain": [
       "        Date      Time              User  \\\n",
       "0 2017-09-17  11:39 PM   Ram Kumar K Old   \n",
       "1 2017-09-17  11:39 PM     Saravanan New   \n",
       "2 2017-09-17  11:40 PM   Ram Kumar K Old   \n",
       "3 2017-09-18   9:23 PM    Gautham BGV O+   \n",
       "4 2017-09-18   9:24 PM        Raj Loyola   \n",
       "\n",
       "                                             Message  Year  Month  \n",
       "0                                       Iyo arikuthe  2017      9  \n",
       "1                U people go n enjoy..tats OK for me  2017      9  \n",
       "2  Guys tour plan maximum I'll not be able to mak...  2017      9  \n",
       "3                      Ena da ellarum ipadi panringa  2017      9  \n",
       "4                                     Namba polam da  2017      9  "
      ]
     },
     "execution_count": 9,
     "metadata": {},
     "output_type": "execute_result"
    }
   ],
   "source": [
    "# Get Month from Date\n",
    "df['Month']=df['Date'].dt.month\n",
    "df.head()"
   ]
  },
  {
   "cell_type": "code",
   "execution_count": 10,
   "metadata": {},
   "outputs": [
    {
     "data": {
      "text/html": [
       "<div>\n",
       "<style scoped>\n",
       "    .dataframe tbody tr th:only-of-type {\n",
       "        vertical-align: middle;\n",
       "    }\n",
       "\n",
       "    .dataframe tbody tr th {\n",
       "        vertical-align: top;\n",
       "    }\n",
       "\n",
       "    .dataframe thead th {\n",
       "        text-align: right;\n",
       "    }\n",
       "</style>\n",
       "<table border=\"1\" class=\"dataframe\">\n",
       "  <thead>\n",
       "    <tr style=\"text-align: right;\">\n",
       "      <th></th>\n",
       "      <th>Date</th>\n",
       "      <th>Time</th>\n",
       "      <th>User</th>\n",
       "      <th>Message</th>\n",
       "      <th>Year</th>\n",
       "      <th>Month</th>\n",
       "      <th>Day</th>\n",
       "    </tr>\n",
       "  </thead>\n",
       "  <tbody>\n",
       "    <tr>\n",
       "      <th>0</th>\n",
       "      <td>2017-09-17</td>\n",
       "      <td>11:39 PM</td>\n",
       "      <td>Ram Kumar K Old</td>\n",
       "      <td>Iyo arikuthe</td>\n",
       "      <td>2017</td>\n",
       "      <td>9</td>\n",
       "      <td>17</td>\n",
       "    </tr>\n",
       "    <tr>\n",
       "      <th>1</th>\n",
       "      <td>2017-09-17</td>\n",
       "      <td>11:39 PM</td>\n",
       "      <td>Saravanan New</td>\n",
       "      <td>U people go n enjoy..tats OK for me</td>\n",
       "      <td>2017</td>\n",
       "      <td>9</td>\n",
       "      <td>17</td>\n",
       "    </tr>\n",
       "    <tr>\n",
       "      <th>2</th>\n",
       "      <td>2017-09-17</td>\n",
       "      <td>11:40 PM</td>\n",
       "      <td>Ram Kumar K Old</td>\n",
       "      <td>Guys tour plan maximum I'll not be able to mak...</td>\n",
       "      <td>2017</td>\n",
       "      <td>9</td>\n",
       "      <td>17</td>\n",
       "    </tr>\n",
       "    <tr>\n",
       "      <th>3</th>\n",
       "      <td>2017-09-18</td>\n",
       "      <td>9:23 PM</td>\n",
       "      <td>Gautham BGV O+</td>\n",
       "      <td>Ena da ellarum ipadi panringa</td>\n",
       "      <td>2017</td>\n",
       "      <td>9</td>\n",
       "      <td>18</td>\n",
       "    </tr>\n",
       "    <tr>\n",
       "      <th>4</th>\n",
       "      <td>2017-09-18</td>\n",
       "      <td>9:24 PM</td>\n",
       "      <td>Raj Loyola</td>\n",
       "      <td>Namba polam da</td>\n",
       "      <td>2017</td>\n",
       "      <td>9</td>\n",
       "      <td>18</td>\n",
       "    </tr>\n",
       "  </tbody>\n",
       "</table>\n",
       "</div>"
      ],
      "text/plain": [
       "        Date      Time              User  \\\n",
       "0 2017-09-17  11:39 PM   Ram Kumar K Old   \n",
       "1 2017-09-17  11:39 PM     Saravanan New   \n",
       "2 2017-09-17  11:40 PM   Ram Kumar K Old   \n",
       "3 2017-09-18   9:23 PM    Gautham BGV O+   \n",
       "4 2017-09-18   9:24 PM        Raj Loyola   \n",
       "\n",
       "                                             Message  Year  Month  Day  \n",
       "0                                       Iyo arikuthe  2017      9   17  \n",
       "1                U people go n enjoy..tats OK for me  2017      9   17  \n",
       "2  Guys tour plan maximum I'll not be able to mak...  2017      9   17  \n",
       "3                      Ena da ellarum ipadi panringa  2017      9   18  \n",
       "4                                     Namba polam da  2017      9   18  "
      ]
     },
     "execution_count": 10,
     "metadata": {},
     "output_type": "execute_result"
    }
   ],
   "source": [
    "# Get Day from Date\n",
    "df['Day']=df['Date'].dt.day\n",
    "df.head()"
   ]
  },
  {
   "cell_type": "code",
   "execution_count": 11,
   "metadata": {},
   "outputs": [
    {
     "data": {
      "text/html": [
       "<div>\n",
       "<style scoped>\n",
       "    .dataframe tbody tr th:only-of-type {\n",
       "        vertical-align: middle;\n",
       "    }\n",
       "\n",
       "    .dataframe tbody tr th {\n",
       "        vertical-align: top;\n",
       "    }\n",
       "\n",
       "    .dataframe thead th {\n",
       "        text-align: right;\n",
       "    }\n",
       "</style>\n",
       "<table border=\"1\" class=\"dataframe\">\n",
       "  <thead>\n",
       "    <tr style=\"text-align: right;\">\n",
       "      <th></th>\n",
       "      <th>Date</th>\n",
       "      <th>Time</th>\n",
       "      <th>User</th>\n",
       "      <th>Message</th>\n",
       "      <th>Year</th>\n",
       "      <th>Month</th>\n",
       "      <th>Day</th>\n",
       "      <th>Hours</th>\n",
       "    </tr>\n",
       "  </thead>\n",
       "  <tbody>\n",
       "    <tr>\n",
       "      <th>0</th>\n",
       "      <td>2017-09-17</td>\n",
       "      <td>2019-03-07 23:39:00</td>\n",
       "      <td>Ram Kumar K Old</td>\n",
       "      <td>Iyo arikuthe</td>\n",
       "      <td>2017</td>\n",
       "      <td>9</td>\n",
       "      <td>17</td>\n",
       "      <td>23</td>\n",
       "    </tr>\n",
       "    <tr>\n",
       "      <th>1</th>\n",
       "      <td>2017-09-17</td>\n",
       "      <td>2019-03-07 23:39:00</td>\n",
       "      <td>Saravanan New</td>\n",
       "      <td>U people go n enjoy..tats OK for me</td>\n",
       "      <td>2017</td>\n",
       "      <td>9</td>\n",
       "      <td>17</td>\n",
       "      <td>23</td>\n",
       "    </tr>\n",
       "    <tr>\n",
       "      <th>2</th>\n",
       "      <td>2017-09-17</td>\n",
       "      <td>2019-03-07 23:40:00</td>\n",
       "      <td>Ram Kumar K Old</td>\n",
       "      <td>Guys tour plan maximum I'll not be able to mak...</td>\n",
       "      <td>2017</td>\n",
       "      <td>9</td>\n",
       "      <td>17</td>\n",
       "      <td>23</td>\n",
       "    </tr>\n",
       "    <tr>\n",
       "      <th>3</th>\n",
       "      <td>2017-09-18</td>\n",
       "      <td>2019-03-07 21:23:00</td>\n",
       "      <td>Gautham BGV O+</td>\n",
       "      <td>Ena da ellarum ipadi panringa</td>\n",
       "      <td>2017</td>\n",
       "      <td>9</td>\n",
       "      <td>18</td>\n",
       "      <td>21</td>\n",
       "    </tr>\n",
       "    <tr>\n",
       "      <th>4</th>\n",
       "      <td>2017-09-18</td>\n",
       "      <td>2019-03-07 21:24:00</td>\n",
       "      <td>Raj Loyola</td>\n",
       "      <td>Namba polam da</td>\n",
       "      <td>2017</td>\n",
       "      <td>9</td>\n",
       "      <td>18</td>\n",
       "      <td>21</td>\n",
       "    </tr>\n",
       "  </tbody>\n",
       "</table>\n",
       "</div>"
      ],
      "text/plain": [
       "        Date                Time              User  \\\n",
       "0 2017-09-17 2019-03-07 23:39:00   Ram Kumar K Old   \n",
       "1 2017-09-17 2019-03-07 23:39:00     Saravanan New   \n",
       "2 2017-09-17 2019-03-07 23:40:00   Ram Kumar K Old   \n",
       "3 2017-09-18 2019-03-07 21:23:00    Gautham BGV O+   \n",
       "4 2017-09-18 2019-03-07 21:24:00        Raj Loyola   \n",
       "\n",
       "                                             Message  Year  Month  Day  Hours  \n",
       "0                                       Iyo arikuthe  2017      9   17     23  \n",
       "1                U people go n enjoy..tats OK for me  2017      9   17     23  \n",
       "2  Guys tour plan maximum I'll not be able to mak...  2017      9   17     23  \n",
       "3                      Ena da ellarum ipadi panringa  2017      9   18     21  \n",
       "4                                     Namba polam da  2017      9   18     21  "
      ]
     },
     "execution_count": 11,
     "metadata": {},
     "output_type": "execute_result"
    }
   ],
   "source": [
    "# Get Hours of the Day\n",
    "\n",
    "df['Time'] = pd.to_datetime(df['Time'])\n",
    "df['Hours']=df.Time.apply(lambda x: x.hour)\n",
    "df.head()"
   ]
  },
  {
   "cell_type": "code",
   "execution_count": 12,
   "metadata": {},
   "outputs": [
    {
     "data": {
      "text/html": [
       "<div>\n",
       "<style scoped>\n",
       "    .dataframe tbody tr th:only-of-type {\n",
       "        vertical-align: middle;\n",
       "    }\n",
       "\n",
       "    .dataframe tbody tr th {\n",
       "        vertical-align: top;\n",
       "    }\n",
       "\n",
       "    .dataframe thead th {\n",
       "        text-align: right;\n",
       "    }\n",
       "</style>\n",
       "<table border=\"1\" class=\"dataframe\">\n",
       "  <thead>\n",
       "    <tr style=\"text-align: right;\">\n",
       "      <th></th>\n",
       "      <th>Date</th>\n",
       "      <th>Time</th>\n",
       "      <th>User</th>\n",
       "      <th>Message</th>\n",
       "      <th>Year</th>\n",
       "      <th>Month</th>\n",
       "      <th>Day</th>\n",
       "      <th>Hours</th>\n",
       "      <th>Words</th>\n",
       "    </tr>\n",
       "  </thead>\n",
       "  <tbody>\n",
       "    <tr>\n",
       "      <th>0</th>\n",
       "      <td>2017-09-17</td>\n",
       "      <td>2019-03-07 23:39:00</td>\n",
       "      <td>Ram Kumar K Old</td>\n",
       "      <td>Iyo arikuthe</td>\n",
       "      <td>2017</td>\n",
       "      <td>9</td>\n",
       "      <td>17</td>\n",
       "      <td>23</td>\n",
       "      <td>[Iyo, arikuthe]</td>\n",
       "    </tr>\n",
       "    <tr>\n",
       "      <th>1</th>\n",
       "      <td>2017-09-17</td>\n",
       "      <td>2019-03-07 23:39:00</td>\n",
       "      <td>Saravanan New</td>\n",
       "      <td>U people go n enjoy..tats OK for me</td>\n",
       "      <td>2017</td>\n",
       "      <td>9</td>\n",
       "      <td>17</td>\n",
       "      <td>23</td>\n",
       "      <td>[U, people, go, n, enjoy, tats, OK, for, me]</td>\n",
       "    </tr>\n",
       "    <tr>\n",
       "      <th>2</th>\n",
       "      <td>2017-09-17</td>\n",
       "      <td>2019-03-07 23:40:00</td>\n",
       "      <td>Ram Kumar K Old</td>\n",
       "      <td>Guys tour plan maximum I'll not be able to mak...</td>\n",
       "      <td>2017</td>\n",
       "      <td>9</td>\n",
       "      <td>17</td>\n",
       "      <td>23</td>\n",
       "      <td>[Guys, tour, plan, maximum, I, ll, not, be, ab...</td>\n",
       "    </tr>\n",
       "    <tr>\n",
       "      <th>3</th>\n",
       "      <td>2017-09-18</td>\n",
       "      <td>2019-03-07 21:23:00</td>\n",
       "      <td>Gautham BGV O+</td>\n",
       "      <td>Ena da ellarum ipadi panringa</td>\n",
       "      <td>2017</td>\n",
       "      <td>9</td>\n",
       "      <td>18</td>\n",
       "      <td>21</td>\n",
       "      <td>[Ena, da, ellarum, ipadi, panringa]</td>\n",
       "    </tr>\n",
       "    <tr>\n",
       "      <th>4</th>\n",
       "      <td>2017-09-18</td>\n",
       "      <td>2019-03-07 21:24:00</td>\n",
       "      <td>Raj Loyola</td>\n",
       "      <td>Namba polam da</td>\n",
       "      <td>2017</td>\n",
       "      <td>9</td>\n",
       "      <td>18</td>\n",
       "      <td>21</td>\n",
       "      <td>[Namba, polam, da]</td>\n",
       "    </tr>\n",
       "  </tbody>\n",
       "</table>\n",
       "</div>"
      ],
      "text/plain": [
       "        Date                Time              User  \\\n",
       "0 2017-09-17 2019-03-07 23:39:00   Ram Kumar K Old   \n",
       "1 2017-09-17 2019-03-07 23:39:00     Saravanan New   \n",
       "2 2017-09-17 2019-03-07 23:40:00   Ram Kumar K Old   \n",
       "3 2017-09-18 2019-03-07 21:23:00    Gautham BGV O+   \n",
       "4 2017-09-18 2019-03-07 21:24:00        Raj Loyola   \n",
       "\n",
       "                                             Message  Year  Month  Day  Hours  \\\n",
       "0                                       Iyo arikuthe  2017      9   17     23   \n",
       "1                U people go n enjoy..tats OK for me  2017      9   17     23   \n",
       "2  Guys tour plan maximum I'll not be able to mak...  2017      9   17     23   \n",
       "3                      Ena da ellarum ipadi panringa  2017      9   18     21   \n",
       "4                                     Namba polam da  2017      9   18     21   \n",
       "\n",
       "                                               Words  \n",
       "0                                    [Iyo, arikuthe]  \n",
       "1       [U, people, go, n, enjoy, tats, OK, for, me]  \n",
       "2  [Guys, tour, plan, maximum, I, ll, not, be, ab...  \n",
       "3                [Ena, da, ellarum, ipadi, panringa]  \n",
       "4                                 [Namba, polam, da]  "
      ]
     },
     "execution_count": 12,
     "metadata": {},
     "output_type": "execute_result"
    }
   ],
   "source": [
    "# Message words\n",
    "df['Words'] = df['Message'].str.strip().str.split('[\\W_]+')\n",
    "df.head()"
   ]
  },
  {
   "cell_type": "code",
   "execution_count": 13,
   "metadata": {},
   "outputs": [
    {
     "data": {
      "text/html": [
       "<div>\n",
       "<style scoped>\n",
       "    .dataframe tbody tr th:only-of-type {\n",
       "        vertical-align: middle;\n",
       "    }\n",
       "\n",
       "    .dataframe tbody tr th {\n",
       "        vertical-align: top;\n",
       "    }\n",
       "\n",
       "    .dataframe thead th {\n",
       "        text-align: right;\n",
       "    }\n",
       "</style>\n",
       "<table border=\"1\" class=\"dataframe\">\n",
       "  <thead>\n",
       "    <tr style=\"text-align: right;\">\n",
       "      <th></th>\n",
       "      <th>Date</th>\n",
       "      <th>Time</th>\n",
       "      <th>User</th>\n",
       "      <th>Message</th>\n",
       "      <th>Year</th>\n",
       "      <th>Month</th>\n",
       "      <th>Day</th>\n",
       "      <th>Hours</th>\n",
       "      <th>Words</th>\n",
       "      <th>Word Length</th>\n",
       "    </tr>\n",
       "  </thead>\n",
       "  <tbody>\n",
       "    <tr>\n",
       "      <th>0</th>\n",
       "      <td>2017-09-17</td>\n",
       "      <td>2019-03-07 23:39:00</td>\n",
       "      <td>Ram Kumar K Old</td>\n",
       "      <td>Iyo arikuthe</td>\n",
       "      <td>2017</td>\n",
       "      <td>9</td>\n",
       "      <td>17</td>\n",
       "      <td>23</td>\n",
       "      <td>[Iyo, arikuthe]</td>\n",
       "      <td>2</td>\n",
       "    </tr>\n",
       "    <tr>\n",
       "      <th>1</th>\n",
       "      <td>2017-09-17</td>\n",
       "      <td>2019-03-07 23:39:00</td>\n",
       "      <td>Saravanan New</td>\n",
       "      <td>U people go n enjoy..tats OK for me</td>\n",
       "      <td>2017</td>\n",
       "      <td>9</td>\n",
       "      <td>17</td>\n",
       "      <td>23</td>\n",
       "      <td>[U, people, go, n, enjoy, tats, OK, for, me]</td>\n",
       "      <td>9</td>\n",
       "    </tr>\n",
       "    <tr>\n",
       "      <th>2</th>\n",
       "      <td>2017-09-17</td>\n",
       "      <td>2019-03-07 23:40:00</td>\n",
       "      <td>Ram Kumar K Old</td>\n",
       "      <td>Guys tour plan maximum I'll not be able to mak...</td>\n",
       "      <td>2017</td>\n",
       "      <td>9</td>\n",
       "      <td>17</td>\n",
       "      <td>23</td>\n",
       "      <td>[Guys, tour, plan, maximum, I, ll, not, be, ab...</td>\n",
       "      <td>12</td>\n",
       "    </tr>\n",
       "    <tr>\n",
       "      <th>3</th>\n",
       "      <td>2017-09-18</td>\n",
       "      <td>2019-03-07 21:23:00</td>\n",
       "      <td>Gautham BGV O+</td>\n",
       "      <td>Ena da ellarum ipadi panringa</td>\n",
       "      <td>2017</td>\n",
       "      <td>9</td>\n",
       "      <td>18</td>\n",
       "      <td>21</td>\n",
       "      <td>[Ena, da, ellarum, ipadi, panringa]</td>\n",
       "      <td>5</td>\n",
       "    </tr>\n",
       "    <tr>\n",
       "      <th>4</th>\n",
       "      <td>2017-09-18</td>\n",
       "      <td>2019-03-07 21:24:00</td>\n",
       "      <td>Raj Loyola</td>\n",
       "      <td>Namba polam da</td>\n",
       "      <td>2017</td>\n",
       "      <td>9</td>\n",
       "      <td>18</td>\n",
       "      <td>21</td>\n",
       "      <td>[Namba, polam, da]</td>\n",
       "      <td>3</td>\n",
       "    </tr>\n",
       "  </tbody>\n",
       "</table>\n",
       "</div>"
      ],
      "text/plain": [
       "        Date                Time              User  \\\n",
       "0 2017-09-17 2019-03-07 23:39:00   Ram Kumar K Old   \n",
       "1 2017-09-17 2019-03-07 23:39:00     Saravanan New   \n",
       "2 2017-09-17 2019-03-07 23:40:00   Ram Kumar K Old   \n",
       "3 2017-09-18 2019-03-07 21:23:00    Gautham BGV O+   \n",
       "4 2017-09-18 2019-03-07 21:24:00        Raj Loyola   \n",
       "\n",
       "                                             Message  Year  Month  Day  Hours  \\\n",
       "0                                       Iyo arikuthe  2017      9   17     23   \n",
       "1                U people go n enjoy..tats OK for me  2017      9   17     23   \n",
       "2  Guys tour plan maximum I'll not be able to mak...  2017      9   17     23   \n",
       "3                      Ena da ellarum ipadi panringa  2017      9   18     21   \n",
       "4                                     Namba polam da  2017      9   18     21   \n",
       "\n",
       "                                               Words  Word Length  \n",
       "0                                    [Iyo, arikuthe]            2  \n",
       "1       [U, people, go, n, enjoy, tats, OK, for, me]            9  \n",
       "2  [Guys, tour, plan, maximum, I, ll, not, be, ab...           12  \n",
       "3                [Ena, da, ellarum, ipadi, panringa]            5  \n",
       "4                                 [Namba, polam, da]            3  "
      ]
     },
     "execution_count": 13,
     "metadata": {},
     "output_type": "execute_result"
    }
   ],
   "source": [
    "# Word length\n",
    "df['Word Length'] = df['Words'].apply(len)\n",
    "df.head()"
   ]
  },
  {
   "cell_type": "code",
   "execution_count": 14,
   "metadata": {},
   "outputs": [
    {
     "data": {
      "text/html": [
       "<div>\n",
       "<style scoped>\n",
       "    .dataframe tbody tr th:only-of-type {\n",
       "        vertical-align: middle;\n",
       "    }\n",
       "\n",
       "    .dataframe tbody tr th {\n",
       "        vertical-align: top;\n",
       "    }\n",
       "\n",
       "    .dataframe thead th {\n",
       "        text-align: right;\n",
       "    }\n",
       "</style>\n",
       "<table border=\"1\" class=\"dataframe\">\n",
       "  <thead>\n",
       "    <tr style=\"text-align: right;\">\n",
       "      <th></th>\n",
       "      <th>Date</th>\n",
       "      <th>Time</th>\n",
       "      <th>User</th>\n",
       "      <th>Message</th>\n",
       "      <th>Year</th>\n",
       "      <th>Month</th>\n",
       "      <th>Day</th>\n",
       "      <th>Hours</th>\n",
       "      <th>Words</th>\n",
       "      <th>Word Length</th>\n",
       "      <th>Message Characters</th>\n",
       "    </tr>\n",
       "  </thead>\n",
       "  <tbody>\n",
       "    <tr>\n",
       "      <th>0</th>\n",
       "      <td>2017-09-17</td>\n",
       "      <td>2019-03-07 23:39:00</td>\n",
       "      <td>Ram Kumar K Old</td>\n",
       "      <td>Iyo arikuthe</td>\n",
       "      <td>2017</td>\n",
       "      <td>9</td>\n",
       "      <td>17</td>\n",
       "      <td>23</td>\n",
       "      <td>[Iyo, arikuthe]</td>\n",
       "      <td>2</td>\n",
       "      <td>9</td>\n",
       "    </tr>\n",
       "    <tr>\n",
       "      <th>1</th>\n",
       "      <td>2017-09-17</td>\n",
       "      <td>2019-03-07 23:39:00</td>\n",
       "      <td>Saravanan New</td>\n",
       "      <td>U people go n enjoy..tats OK for me</td>\n",
       "      <td>2017</td>\n",
       "      <td>9</td>\n",
       "      <td>17</td>\n",
       "      <td>23</td>\n",
       "      <td>[U, people, go, n, enjoy, tats, OK, for, me]</td>\n",
       "      <td>9</td>\n",
       "      <td>32</td>\n",
       "    </tr>\n",
       "    <tr>\n",
       "      <th>2</th>\n",
       "      <td>2017-09-17</td>\n",
       "      <td>2019-03-07 23:40:00</td>\n",
       "      <td>Ram Kumar K Old</td>\n",
       "      <td>Guys tour plan maximum I'll not be able to mak...</td>\n",
       "      <td>2017</td>\n",
       "      <td>9</td>\n",
       "      <td>17</td>\n",
       "      <td>23</td>\n",
       "      <td>[Guys, tour, plan, maximum, I, ll, not, be, ab...</td>\n",
       "      <td>12</td>\n",
       "      <td>47</td>\n",
       "    </tr>\n",
       "    <tr>\n",
       "      <th>3</th>\n",
       "      <td>2017-09-18</td>\n",
       "      <td>2019-03-07 21:23:00</td>\n",
       "      <td>Gautham BGV O+</td>\n",
       "      <td>Ena da ellarum ipadi panringa</td>\n",
       "      <td>2017</td>\n",
       "      <td>9</td>\n",
       "      <td>18</td>\n",
       "      <td>21</td>\n",
       "      <td>[Ena, da, ellarum, ipadi, panringa]</td>\n",
       "      <td>5</td>\n",
       "      <td>26</td>\n",
       "    </tr>\n",
       "    <tr>\n",
       "      <th>4</th>\n",
       "      <td>2017-09-18</td>\n",
       "      <td>2019-03-07 21:24:00</td>\n",
       "      <td>Raj Loyola</td>\n",
       "      <td>Namba polam da</td>\n",
       "      <td>2017</td>\n",
       "      <td>9</td>\n",
       "      <td>18</td>\n",
       "      <td>21</td>\n",
       "      <td>[Namba, polam, da]</td>\n",
       "      <td>3</td>\n",
       "      <td>11</td>\n",
       "    </tr>\n",
       "  </tbody>\n",
       "</table>\n",
       "</div>"
      ],
      "text/plain": [
       "        Date                Time              User  \\\n",
       "0 2017-09-17 2019-03-07 23:39:00   Ram Kumar K Old   \n",
       "1 2017-09-17 2019-03-07 23:39:00     Saravanan New   \n",
       "2 2017-09-17 2019-03-07 23:40:00   Ram Kumar K Old   \n",
       "3 2017-09-18 2019-03-07 21:23:00    Gautham BGV O+   \n",
       "4 2017-09-18 2019-03-07 21:24:00        Raj Loyola   \n",
       "\n",
       "                                             Message  Year  Month  Day  Hours  \\\n",
       "0                                       Iyo arikuthe  2017      9   17     23   \n",
       "1                U people go n enjoy..tats OK for me  2017      9   17     23   \n",
       "2  Guys tour plan maximum I'll not be able to mak...  2017      9   17     23   \n",
       "3                      Ena da ellarum ipadi panringa  2017      9   18     21   \n",
       "4                                     Namba polam da  2017      9   18     21   \n",
       "\n",
       "                                               Words  Word Length  \\\n",
       "0                                    [Iyo, arikuthe]            2   \n",
       "1       [U, people, go, n, enjoy, tats, OK, for, me]            9   \n",
       "2  [Guys, tour, plan, maximum, I, ll, not, be, ab...           12   \n",
       "3                [Ena, da, ellarum, ipadi, panringa]            5   \n",
       "4                                 [Namba, polam, da]            3   \n",
       "\n",
       "   Message Characters  \n",
       "0                   9  \n",
       "1                  32  \n",
       "2                  47  \n",
       "3                  26  \n",
       "4                  11  "
      ]
     },
     "execution_count": 14,
     "metadata": {},
     "output_type": "execute_result"
    }
   ],
   "source": [
    "# Get the Length of Message\n",
    "df['Message Characters'] = df['Message'].map(str).apply(len)-3\n",
    "df.head()"
   ]
  },
  {
   "cell_type": "code",
   "execution_count": 15,
   "metadata": {},
   "outputs": [
    {
     "data": {
      "text/html": [
       "<div>\n",
       "<style scoped>\n",
       "    .dataframe tbody tr th:only-of-type {\n",
       "        vertical-align: middle;\n",
       "    }\n",
       "\n",
       "    .dataframe tbody tr th {\n",
       "        vertical-align: top;\n",
       "    }\n",
       "\n",
       "    .dataframe thead th {\n",
       "        text-align: right;\n",
       "    }\n",
       "</style>\n",
       "<table border=\"1\" class=\"dataframe\">\n",
       "  <thead>\n",
       "    <tr style=\"text-align: right;\">\n",
       "      <th></th>\n",
       "      <th>Date</th>\n",
       "      <th>Time</th>\n",
       "      <th>User</th>\n",
       "      <th>Message</th>\n",
       "      <th>Year</th>\n",
       "      <th>Month</th>\n",
       "      <th>Day</th>\n",
       "      <th>Hours</th>\n",
       "      <th>Words</th>\n",
       "      <th>Word Length</th>\n",
       "      <th>Message Characters</th>\n",
       "      <th>Media</th>\n",
       "    </tr>\n",
       "  </thead>\n",
       "  <tbody>\n",
       "    <tr>\n",
       "      <th>0</th>\n",
       "      <td>2017-09-17</td>\n",
       "      <td>2019-03-07 23:39:00</td>\n",
       "      <td>Ram Kumar K Old</td>\n",
       "      <td>Iyo arikuthe</td>\n",
       "      <td>2017</td>\n",
       "      <td>9</td>\n",
       "      <td>17</td>\n",
       "      <td>23</td>\n",
       "      <td>[Iyo, arikuthe]</td>\n",
       "      <td>2</td>\n",
       "      <td>9</td>\n",
       "      <td>False</td>\n",
       "    </tr>\n",
       "    <tr>\n",
       "      <th>1</th>\n",
       "      <td>2017-09-17</td>\n",
       "      <td>2019-03-07 23:39:00</td>\n",
       "      <td>Saravanan New</td>\n",
       "      <td>U people go n enjoy..tats OK for me</td>\n",
       "      <td>2017</td>\n",
       "      <td>9</td>\n",
       "      <td>17</td>\n",
       "      <td>23</td>\n",
       "      <td>[U, people, go, n, enjoy, tats, OK, for, me]</td>\n",
       "      <td>9</td>\n",
       "      <td>32</td>\n",
       "      <td>False</td>\n",
       "    </tr>\n",
       "    <tr>\n",
       "      <th>2</th>\n",
       "      <td>2017-09-17</td>\n",
       "      <td>2019-03-07 23:40:00</td>\n",
       "      <td>Ram Kumar K Old</td>\n",
       "      <td>Guys tour plan maximum I'll not be able to mak...</td>\n",
       "      <td>2017</td>\n",
       "      <td>9</td>\n",
       "      <td>17</td>\n",
       "      <td>23</td>\n",
       "      <td>[Guys, tour, plan, maximum, I, ll, not, be, ab...</td>\n",
       "      <td>12</td>\n",
       "      <td>47</td>\n",
       "      <td>False</td>\n",
       "    </tr>\n",
       "    <tr>\n",
       "      <th>3</th>\n",
       "      <td>2017-09-18</td>\n",
       "      <td>2019-03-07 21:23:00</td>\n",
       "      <td>Gautham BGV O+</td>\n",
       "      <td>Ena da ellarum ipadi panringa</td>\n",
       "      <td>2017</td>\n",
       "      <td>9</td>\n",
       "      <td>18</td>\n",
       "      <td>21</td>\n",
       "      <td>[Ena, da, ellarum, ipadi, panringa]</td>\n",
       "      <td>5</td>\n",
       "      <td>26</td>\n",
       "      <td>False</td>\n",
       "    </tr>\n",
       "    <tr>\n",
       "      <th>4</th>\n",
       "      <td>2017-09-18</td>\n",
       "      <td>2019-03-07 21:24:00</td>\n",
       "      <td>Raj Loyola</td>\n",
       "      <td>Namba polam da</td>\n",
       "      <td>2017</td>\n",
       "      <td>9</td>\n",
       "      <td>18</td>\n",
       "      <td>21</td>\n",
       "      <td>[Namba, polam, da]</td>\n",
       "      <td>3</td>\n",
       "      <td>11</td>\n",
       "      <td>False</td>\n",
       "    </tr>\n",
       "  </tbody>\n",
       "</table>\n",
       "</div>"
      ],
      "text/plain": [
       "        Date                Time              User  \\\n",
       "0 2017-09-17 2019-03-07 23:39:00   Ram Kumar K Old   \n",
       "1 2017-09-17 2019-03-07 23:39:00     Saravanan New   \n",
       "2 2017-09-17 2019-03-07 23:40:00   Ram Kumar K Old   \n",
       "3 2017-09-18 2019-03-07 21:23:00    Gautham BGV O+   \n",
       "4 2017-09-18 2019-03-07 21:24:00        Raj Loyola   \n",
       "\n",
       "                                             Message  Year  Month  Day  Hours  \\\n",
       "0                                       Iyo arikuthe  2017      9   17     23   \n",
       "1                U people go n enjoy..tats OK for me  2017      9   17     23   \n",
       "2  Guys tour plan maximum I'll not be able to mak...  2017      9   17     23   \n",
       "3                      Ena da ellarum ipadi panringa  2017      9   18     21   \n",
       "4                                     Namba polam da  2017      9   18     21   \n",
       "\n",
       "                                               Words  Word Length  \\\n",
       "0                                    [Iyo, arikuthe]            2   \n",
       "1       [U, people, go, n, enjoy, tats, OK, for, me]            9   \n",
       "2  [Guys, tour, plan, maximum, I, ll, not, be, ab...           12   \n",
       "3                [Ena, da, ellarum, ipadi, panringa]            5   \n",
       "4                                 [Namba, polam, da]            3   \n",
       "\n",
       "   Message Characters  Media  \n",
       "0                   9  False  \n",
       "1                  32  False  \n",
       "2                  47  False  \n",
       "3                  26  False  \n",
       "4                  11  False  "
      ]
     },
     "execution_count": 15,
     "metadata": {},
     "output_type": "execute_result"
    }
   ],
   "source": [
    "# Get Media shared in the Message\n",
    "df['Media']=df['Message'].str.contains('<Media omitted>')\n",
    "df.head()"
   ]
  },
  {
   "cell_type": "code",
   "execution_count": 16,
   "metadata": {},
   "outputs": [],
   "source": [
    "# Save the DataFrame to a csv file\n",
    "df.to_csv(\"whatsapp.csv\")"
   ]
  },
  {
   "cell_type": "code",
   "execution_count": 17,
   "metadata": {},
   "outputs": [
    {
     "data": {
      "text/html": [
       "<div>\n",
       "<style scoped>\n",
       "    .dataframe tbody tr th:only-of-type {\n",
       "        vertical-align: middle;\n",
       "    }\n",
       "\n",
       "    .dataframe tbody tr th {\n",
       "        vertical-align: top;\n",
       "    }\n",
       "\n",
       "    .dataframe thead th {\n",
       "        text-align: right;\n",
       "    }\n",
       "</style>\n",
       "<table border=\"1\" class=\"dataframe\">\n",
       "  <thead>\n",
       "    <tr style=\"text-align: right;\">\n",
       "      <th></th>\n",
       "      <th>Date</th>\n",
       "      <th>Time</th>\n",
       "      <th>User</th>\n",
       "      <th>Message</th>\n",
       "      <th>Year</th>\n",
       "      <th>Month</th>\n",
       "      <th>Day</th>\n",
       "      <th>Hours</th>\n",
       "      <th>Words</th>\n",
       "      <th>Word Length</th>\n",
       "      <th>Message Characters</th>\n",
       "      <th>Media</th>\n",
       "    </tr>\n",
       "  </thead>\n",
       "  <tbody>\n",
       "    <tr>\n",
       "      <th>0</th>\n",
       "      <td>2017-09-17</td>\n",
       "      <td>2019-03-07 23:39:00</td>\n",
       "      <td>Ram Kumar K Old</td>\n",
       "      <td>Iyo arikuthe</td>\n",
       "      <td>2017</td>\n",
       "      <td>9</td>\n",
       "      <td>17</td>\n",
       "      <td>23</td>\n",
       "      <td>[Iyo, arikuthe]</td>\n",
       "      <td>2</td>\n",
       "      <td>9</td>\n",
       "      <td>False</td>\n",
       "    </tr>\n",
       "    <tr>\n",
       "      <th>1</th>\n",
       "      <td>2017-09-17</td>\n",
       "      <td>2019-03-07 23:39:00</td>\n",
       "      <td>Saravanan New</td>\n",
       "      <td>U people go n enjoy..tats OK for me</td>\n",
       "      <td>2017</td>\n",
       "      <td>9</td>\n",
       "      <td>17</td>\n",
       "      <td>23</td>\n",
       "      <td>[U, people, go, n, enjoy, tats, OK, for, me]</td>\n",
       "      <td>9</td>\n",
       "      <td>32</td>\n",
       "      <td>False</td>\n",
       "    </tr>\n",
       "    <tr>\n",
       "      <th>2</th>\n",
       "      <td>2017-09-17</td>\n",
       "      <td>2019-03-07 23:40:00</td>\n",
       "      <td>Ram Kumar K Old</td>\n",
       "      <td>Guys tour plan maximum I'll not be able to mak...</td>\n",
       "      <td>2017</td>\n",
       "      <td>9</td>\n",
       "      <td>17</td>\n",
       "      <td>23</td>\n",
       "      <td>[Guys, tour, plan, maximum, I, ll, not, be, ab...</td>\n",
       "      <td>12</td>\n",
       "      <td>47</td>\n",
       "      <td>False</td>\n",
       "    </tr>\n",
       "    <tr>\n",
       "      <th>3</th>\n",
       "      <td>2017-09-18</td>\n",
       "      <td>2019-03-07 21:23:00</td>\n",
       "      <td>Gautham BGV O+</td>\n",
       "      <td>Ena da ellarum ipadi panringa</td>\n",
       "      <td>2017</td>\n",
       "      <td>9</td>\n",
       "      <td>18</td>\n",
       "      <td>21</td>\n",
       "      <td>[Ena, da, ellarum, ipadi, panringa]</td>\n",
       "      <td>5</td>\n",
       "      <td>26</td>\n",
       "      <td>False</td>\n",
       "    </tr>\n",
       "    <tr>\n",
       "      <th>4</th>\n",
       "      <td>2017-09-18</td>\n",
       "      <td>2019-03-07 21:24:00</td>\n",
       "      <td>Raj Loyola</td>\n",
       "      <td>Namba polam da</td>\n",
       "      <td>2017</td>\n",
       "      <td>9</td>\n",
       "      <td>18</td>\n",
       "      <td>21</td>\n",
       "      <td>[Namba, polam, da]</td>\n",
       "      <td>3</td>\n",
       "      <td>11</td>\n",
       "      <td>False</td>\n",
       "    </tr>\n",
       "  </tbody>\n",
       "</table>\n",
       "</div>"
      ],
      "text/plain": [
       "        Date                Time              User  \\\n",
       "0 2017-09-17 2019-03-07 23:39:00   Ram Kumar K Old   \n",
       "1 2017-09-17 2019-03-07 23:39:00     Saravanan New   \n",
       "2 2017-09-17 2019-03-07 23:40:00   Ram Kumar K Old   \n",
       "3 2017-09-18 2019-03-07 21:23:00    Gautham BGV O+   \n",
       "4 2017-09-18 2019-03-07 21:24:00        Raj Loyola   \n",
       "\n",
       "                                             Message  Year  Month  Day  Hours  \\\n",
       "0                                       Iyo arikuthe  2017      9   17     23   \n",
       "1                U people go n enjoy..tats OK for me  2017      9   17     23   \n",
       "2  Guys tour plan maximum I'll not be able to mak...  2017      9   17     23   \n",
       "3                      Ena da ellarum ipadi panringa  2017      9   18     21   \n",
       "4                                     Namba polam da  2017      9   18     21   \n",
       "\n",
       "                                               Words  Word Length  \\\n",
       "0                                    [Iyo, arikuthe]            2   \n",
       "1       [U, people, go, n, enjoy, tats, OK, for, me]            9   \n",
       "2  [Guys, tour, plan, maximum, I, ll, not, be, ab...           12   \n",
       "3                [Ena, da, ellarum, ipadi, panringa]            5   \n",
       "4                                 [Namba, polam, da]            3   \n",
       "\n",
       "   Message Characters  Media  \n",
       "0                   9  False  \n",
       "1                  32  False  \n",
       "2                  47  False  \n",
       "3                  26  False  \n",
       "4                  11  False  "
      ]
     },
     "execution_count": 17,
     "metadata": {},
     "output_type": "execute_result"
    }
   ],
   "source": [
    "df.head()"
   ]
  },
  {
   "cell_type": "code",
   "execution_count": 18,
   "metadata": {},
   "outputs": [
    {
     "name": "stdout",
     "output_type": "stream",
     "text": [
      "39809\n"
     ]
    }
   ],
   "source": [
    "print(df.shape[0])"
   ]
  },
  {
   "cell_type": "code",
   "execution_count": 19,
   "metadata": {},
   "outputs": [
    {
     "name": "stdout",
     "output_type": "stream",
     "text": [
      "               Year         Month           Day         Hours   Word Length  \\\n",
      "count  39809.000000  39809.000000  39809.000000  39809.000000  39809.000000   \n",
      "mean    2017.728478      7.293552     16.167198     15.611972      3.637720   \n",
      "std        0.553056      3.526554      9.016337      5.821978      3.144286   \n",
      "min     2016.000000      1.000000      1.000000      0.000000      1.000000   \n",
      "25%     2017.000000      4.000000      8.000000     11.000000      2.000000   \n",
      "50%     2018.000000      8.000000     17.000000     17.000000      3.000000   \n",
      "75%     2018.000000     10.000000     24.000000     21.000000      4.000000   \n",
      "max     2019.000000     12.000000     31.000000     23.000000     89.000000   \n",
      "\n",
      "       Message Characters  \n",
      "count        39809.000000  \n",
      "mean            14.333216  \n",
      "std             18.289541  \n",
      "min             -2.000000  \n",
      "25%              3.000000  \n",
      "50%             11.000000  \n",
      "75%             19.000000  \n",
      "max            334.000000  \n"
     ]
    }
   ],
   "source": [
    "print(df.describe())"
   ]
  },
  {
   "cell_type": "code",
   "execution_count": 20,
   "metadata": {},
   "outputs": [
    {
     "name": "stdout",
     "output_type": "stream",
     "text": [
      "Index(['Date', 'Time', 'User', 'Message', 'Year', 'Month', 'Day', 'Hours',\n",
      "       'Words', 'Word Length', 'Message Characters', 'Media'],\n",
      "      dtype='object')\n"
     ]
    }
   ],
   "source": [
    "print(df.columns)"
   ]
  },
  {
   "cell_type": "code",
   "execution_count": 21,
   "metadata": {},
   "outputs": [
    {
     "name": "stdout",
     "output_type": "stream",
     "text": [
      "Date\n",
      "2016-09-15      1\n",
      "2017-09-17      3\n",
      "2017-09-18     20\n",
      "2017-09-19    324\n",
      "2017-09-20     91\n",
      "2017-09-21     99\n",
      "2017-09-22     11\n",
      "2017-09-23     39\n",
      "2017-09-24    157\n",
      "2017-09-25    286\n",
      "2017-09-26    269\n",
      "2017-09-27    372\n",
      "2017-09-28    347\n",
      "2017-09-29    165\n",
      "2017-09-30     87\n",
      "2017-10-01     36\n",
      "2017-10-02     47\n",
      "2017-10-03    142\n",
      "2017-10-04     63\n",
      "2017-10-05    182\n",
      "2017-10-06     84\n",
      "2017-10-07     48\n",
      "2017-10-08     68\n",
      "2017-10-09     21\n",
      "2017-10-10     87\n",
      "2017-10-11    209\n",
      "2017-10-12    115\n",
      "2017-10-13    187\n",
      "2017-10-14    143\n",
      "2017-10-15    295\n",
      "             ... \n",
      "2019-01-25      9\n",
      "2019-01-26      9\n",
      "2019-01-27     38\n",
      "2019-01-28     48\n",
      "2019-01-29     15\n",
      "2019-01-30     12\n",
      "2019-01-31     13\n",
      "2019-02-01     19\n",
      "2019-02-02      3\n",
      "2019-02-03     38\n",
      "2019-02-04      8\n",
      "2019-02-06      8\n",
      "2019-02-07     43\n",
      "2019-02-08     27\n",
      "2019-02-09      8\n",
      "2019-02-10     13\n",
      "2019-02-11      1\n",
      "2019-02-12     42\n",
      "2019-02-13      5\n",
      "2019-02-14     57\n",
      "2019-02-21      2\n",
      "2019-02-22      1\n",
      "2019-02-23     25\n",
      "2019-02-24     17\n",
      "2019-02-25     32\n",
      "2019-02-26      2\n",
      "2019-02-27     12\n",
      "2019-02-28    148\n",
      "2019-03-01      1\n",
      "2019-03-02     35\n",
      "Name: Date, Length: 514, dtype: int64\n"
     ]
    }
   ],
   "source": [
    "days = df.groupby('Date')['Date'].count()\n",
    "print(days)"
   ]
  },
  {
   "cell_type": "code",
   "execution_count": 22,
   "metadata": {},
   "outputs": [
    {
     "name": "stdout",
     "output_type": "stream",
     "text": [
      "User\n",
      " 3                                                                                                                                                                                                                        1\n",
      " 4                                                                                                                                                                                                                        1\n",
      " Android developer - to get an interview they need to finish this task                                                                                                                                                    1\n",
      " Business News - https                                                                                                                                                                                                    1\n",
      " Colonel's daughter in Shimla - https                                                                                                                                                                                     1\n",
      " Elite                                                                                                                                                                                                                    1\n",
      " Gautham BGV O+                                                                                                                                                                                                       12560\n",
      " Illakya                                                                                                                                                                                                                  5\n",
      " Karthi Kottupalayam                                                                                                                                                                                                    242\n",
      " Magesh School                                                                                                                                                                                                         1802\n",
      " Mohan Vaithi Bro                                                                                                                                                                                                        14\n",
      " NDTV https                                                                                                                                                                                                              15\n",
      " Oneindia News - https                                                                                                                                                                                                    1\n",
      " Prem Coumar                                                                                                                                                                                                           6370\n",
      " Raj Loyola                                                                                                                                                                                                             664\n",
      " Ram Kumar K Old                                                                                                                                                                                                       2433\n",
      " Sales & Collections / Pondicherry - Jobs in... https                                                                                                                                                                     1\n",
      " Saravanan New                                                                                                                                                                                                         1505\n",
      " Shankar                                                                                                                                                                                                               2355\n",
      " Suresh Kirumi                                                                                                                                                                                                         4778\n",
      " The Economic Times-https                                                                                                                                                                                                 8\n",
      " The Hindu Business Line - http                                                                                                                                                                                           1\n",
      " Timings, Charges, Cancellation And Other Details - NDTV https                                                                                                                                                            1\n",
      " Uthayan                                                                                                                                                                                                                  9\n",
      " V1                                                                                                                                                                                                                    6995\n",
      " Vaithi Saravanan Frnd                                                                                                                                                                                                    5\n",
      " bit.ly/getfrapp -  and use my referral code                                                                                                                                                                              1\n",
      " http                                                                                                                                                                                                                     5\n",
      " https                                                                                                                                                                                                                    8\n",
      "* https                                                                                                                                                                                                                   1\n",
      "1B visa rule favouring advance degree holders to impact Indian IT companies                                                                                                                                               1\n",
      "2                                                                                                                                                                                                                         1\n",
      "23 do in India? by Himanshu Chauhan https                                                                                                                                                                                 1\n",
      "5                                                                                                                                                                                                                         1\n",
      "I data confirms presence of ice on Moon                                                                                                                                                                                   1\n",
      "Pak talks                                                                                                                                                                                                                 1\n",
      "Sterlite protests                                                                                                                                                                                                         1\n",
      "Tube Baby, Declares Yogi Adityanath's Deputy - NDTV https                                                                                                                                                                 1\n",
      "drinkers will be eligible for gold medal, says Pune University rule book. http                                                                                                                                            1\n",
      "faced again                                                                                                                                                                                                               1\n",
      "fee card http                                                                                                                                                                                                             1\n",
      "founder                                                                                                                                                                                                                   1\n",
      "gallery/925944/uber-partners-with-nasa-to-develop-flying-taxis-heres-how-it-looks-like/                                                                                                                                   1\n",
      "gallery/944488/qs-university-university-rankings-for-brics-good-news-2-indian-varsities-made-the-cut-in-top-10-check-out-full-list/                                                                                       1\n",
      "gallery/948329/ugc-suspends-engineering-degrees-awarded-by-these-universities-check-if-your-alma-mater-is-on-the-list/                                                                                                    1\n",
      "http                                                                                                                                                                                                                      1\n",
      "loses-in-arbitration-required-to-pay-rajiv-bansal-rs-12-1-crore-plus-interest/articleshow/65853188.cms?utm_source=AMPusers&utm_medium=whatsappshare&utm_campaign=socialsharebutton - Download ET Markets APP (http        1\n",
      "out                                                                                                                                                                                                                       1\n",
      "road bridge                                                                                                                                                                                                               1\n",
      "tickets-https                                                                                                                                                                                                             1\n",
      "turn on Panaya - The Economic Times-https                                                                                                                                                                                 1\n",
      "unable-to-keep-pace-tcs-to-outperform-on-bourses-too/articleshow/64983337.cms?utm_source=AMPusers&utm_medium=whatsappshare&utm_campaign=socialsharebutton - Download ET Markets APP (http                                 1\n",
      "ups may add years to your life                                                                                                                                                                                            1\n",
      "wheelers from 1 December, says govt - http                                                                                                                                                                                1\n",
      "Name: User, dtype: int64\n"
     ]
    }
   ],
   "source": [
    "users = df.groupby('User')['User'].count()\n",
    "print(users)"
   ]
  },
  {
   "cell_type": "code",
   "execution_count": 23,
   "metadata": {},
   "outputs": [
    {
     "name": "stdout",
     "output_type": "stream",
     "text": [
      "User\n",
      " 3                                                                                                                                                                                                                        1\n",
      " 4                                                                                                                                                                                                                        1\n",
      " Android developer - to get an interview they need to finish this task                                                                                                                                                    1\n",
      " Business News - https                                                                                                                                                                                                    1\n",
      " Colonel's daughter in Shimla - https                                                                                                                                                                                     1\n",
      " Elite                                                                                                                                                                                                                    1\n",
      " Gautham BGV O+                                                                                                                                                                                                       12560\n",
      " Illakya                                                                                                                                                                                                                  5\n",
      " Karthi Kottupalayam                                                                                                                                                                                                    242\n",
      " Magesh School                                                                                                                                                                                                         1802\n",
      " Mohan Vaithi Bro                                                                                                                                                                                                        14\n",
      " NDTV https                                                                                                                                                                                                              15\n",
      " Oneindia News - https                                                                                                                                                                                                    1\n",
      " Prem Coumar                                                                                                                                                                                                           6370\n",
      " Raj Loyola                                                                                                                                                                                                             664\n",
      " Ram Kumar K Old                                                                                                                                                                                                       2433\n",
      " Sales & Collections / Pondicherry - Jobs in... https                                                                                                                                                                     1\n",
      " Saravanan New                                                                                                                                                                                                         1505\n",
      " Shankar                                                                                                                                                                                                               2355\n",
      " Suresh Kirumi                                                                                                                                                                                                         4778\n",
      " The Economic Times-https                                                                                                                                                                                                 8\n",
      " The Hindu Business Line - http                                                                                                                                                                                           1\n",
      " Timings, Charges, Cancellation And Other Details - NDTV https                                                                                                                                                            1\n",
      " Uthayan                                                                                                                                                                                                                  9\n",
      " V1                                                                                                                                                                                                                    6995\n",
      " Vaithi Saravanan Frnd                                                                                                                                                                                                    5\n",
      " bit.ly/getfrapp -  and use my referral code                                                                                                                                                                              1\n",
      " http                                                                                                                                                                                                                     5\n",
      " https                                                                                                                                                                                                                    8\n",
      "* https                                                                                                                                                                                                                   1\n",
      "1B visa rule favouring advance degree holders to impact Indian IT companies                                                                                                                                               1\n",
      "2                                                                                                                                                                                                                         1\n",
      "23 do in India? by Himanshu Chauhan https                                                                                                                                                                                 1\n",
      "5                                                                                                                                                                                                                         1\n",
      "I data confirms presence of ice on Moon                                                                                                                                                                                   1\n",
      "Pak talks                                                                                                                                                                                                                 1\n",
      "Sterlite protests                                                                                                                                                                                                         1\n",
      "Tube Baby, Declares Yogi Adityanath's Deputy - NDTV https                                                                                                                                                                 1\n",
      "drinkers will be eligible for gold medal, says Pune University rule book. http                                                                                                                                            1\n",
      "faced again                                                                                                                                                                                                               1\n",
      "fee card http                                                                                                                                                                                                             1\n",
      "founder                                                                                                                                                                                                                   1\n",
      "gallery/925944/uber-partners-with-nasa-to-develop-flying-taxis-heres-how-it-looks-like/                                                                                                                                   1\n",
      "gallery/944488/qs-university-university-rankings-for-brics-good-news-2-indian-varsities-made-the-cut-in-top-10-check-out-full-list/                                                                                       1\n",
      "gallery/948329/ugc-suspends-engineering-degrees-awarded-by-these-universities-check-if-your-alma-mater-is-on-the-list/                                                                                                    1\n",
      "http                                                                                                                                                                                                                      1\n",
      "loses-in-arbitration-required-to-pay-rajiv-bansal-rs-12-1-crore-plus-interest/articleshow/65853188.cms?utm_source=AMPusers&utm_medium=whatsappshare&utm_campaign=socialsharebutton - Download ET Markets APP (http        1\n",
      "out                                                                                                                                                                                                                       1\n",
      "road bridge                                                                                                                                                                                                               1\n",
      "tickets-https                                                                                                                                                                                                             1\n",
      "turn on Panaya - The Economic Times-https                                                                                                                                                                                 1\n",
      "unable-to-keep-pace-tcs-to-outperform-on-bourses-too/articleshow/64983337.cms?utm_source=AMPusers&utm_medium=whatsappshare&utm_campaign=socialsharebutton - Download ET Markets APP (http                                 1\n",
      "ups may add years to your life                                                                                                                                                                                            1\n",
      "wheelers from 1 December, says govt - http                                                                                                                                                                                1\n",
      "Name: Message, dtype: int64\n"
     ]
    }
   ],
   "source": [
    "message=df.groupby('User')['Message'].count()\n",
    "print(message)"
   ]
  },
  {
   "cell_type": "code",
   "execution_count": 24,
   "metadata": {},
   "outputs": [
    {
     "name": "stdout",
     "output_type": "stream",
     "text": [
      "Year\n",
      "2016        1\n",
      "2017    12957\n",
      "2018    24701\n",
      "2019     2150\n",
      "Name: Year, dtype: int64\n"
     ]
    }
   ],
   "source": [
    "year = df.groupby('Year')['Year'].count()\n",
    "print(year)"
   ]
  },
  {
   "cell_type": "code",
   "execution_count": 25,
   "metadata": {},
   "outputs": [
    {
     "name": "stdout",
     "output_type": "stream",
     "text": [
      "Month\n",
      "1     2638\n",
      "2     2235\n",
      "3     4325\n",
      "4     1977\n",
      "5     2109\n",
      "6     2605\n",
      "7     1974\n",
      "8     2631\n",
      "9     4321\n",
      "10    6182\n",
      "11    5136\n",
      "12    3676\n",
      "Name: Month, dtype: int64\n"
     ]
    }
   ],
   "source": [
    "month = df.groupby(['Month'])['Month'].count()\n",
    "print(month)"
   ]
  },
  {
   "cell_type": "code",
   "execution_count": 26,
   "metadata": {},
   "outputs": [
    {
     "name": "stdout",
     "output_type": "stream",
     "text": [
      "Month\n",
      "1     2638\n",
      "2     2235\n",
      "3     4325\n",
      "4     1977\n",
      "5     2109\n",
      "6     2605\n",
      "7     1974\n",
      "8     2631\n",
      "9     4321\n",
      "10    6182\n",
      "11    5136\n",
      "12    3676\n",
      "Name: Month, dtype: int64\n"
     ]
    }
   ],
   "source": [
    "year_month = df.groupby(['Year','Month'])['Month'].count()\n",
    "print(month)"
   ]
  },
  {
   "cell_type": "code",
   "execution_count": 27,
   "metadata": {},
   "outputs": [
    {
     "name": "stdout",
     "output_type": "stream",
     "text": [
      "Year  Day\n",
      "2016  15       1\n",
      "2017  1      399\n",
      "      2      689\n",
      "      3      349\n",
      "      4      265\n",
      "      5      371\n",
      "      6      290\n",
      "      7      492\n",
      "      8      267\n",
      "      9      176\n",
      "      10     438\n",
      "      11     327\n",
      "      12     527\n",
      "      13     193\n",
      "      14     169\n",
      "      15     580\n",
      "      16     178\n",
      "      17     511\n",
      "      18     294\n",
      "      19     665\n",
      "      20     289\n",
      "      21     285\n",
      "      22     342\n",
      "      23     119\n",
      "      24     281\n",
      "      25     799\n",
      "      26     751\n",
      "      27     791\n",
      "      28     557\n",
      "      29     574\n",
      "            ... \n",
      "2019  1       30\n",
      "      2       53\n",
      "      3       75\n",
      "      4      192\n",
      "      5       44\n",
      "      6      136\n",
      "      7       61\n",
      "      8      123\n",
      "      9      137\n",
      "      10      76\n",
      "      11      98\n",
      "      12     163\n",
      "      13      85\n",
      "      14     119\n",
      "      15     116\n",
      "      16      33\n",
      "      17      23\n",
      "      18       1\n",
      "      20      38\n",
      "      21      46\n",
      "      22      76\n",
      "      23      55\n",
      "      24      32\n",
      "      25      41\n",
      "      26      11\n",
      "      27      50\n",
      "      28     196\n",
      "      29      15\n",
      "      30      12\n",
      "      31      13\n",
      "Name: Day, Length: 93, dtype: int64\n"
     ]
    }
   ],
   "source": [
    "year_day = df.groupby(['Year','Day'])['Day'].count()\n",
    "print(year_day)"
   ]
  },
  {
   "cell_type": "code",
   "execution_count": 28,
   "metadata": {},
   "outputs": [
    {
     "name": "stdout",
     "output_type": "stream",
     "text": [
      "Hours\n",
      "0     1103\n",
      "1      164\n",
      "2       86\n",
      "3       55\n",
      "4      117\n",
      "5      172\n",
      "6      379\n",
      "7      841\n",
      "8     1870\n",
      "9     2040\n",
      "10    1988\n",
      "11    1785\n",
      "12    1493\n",
      "13    2178\n",
      "14    2135\n",
      "15    1756\n",
      "16    1453\n",
      "17    1818\n",
      "18    2570\n",
      "19    2699\n",
      "20    1851\n",
      "21    3559\n",
      "22    4273\n",
      "23    3424\n",
      "Name: Hours, dtype: int64\n"
     ]
    }
   ],
   "source": [
    "hours = df.groupby(['Hours'])['Hours'].count()\n",
    "print(hours)"
   ]
  },
  {
   "cell_type": "code",
   "execution_count": 29,
   "metadata": {},
   "outputs": [
    {
     "name": "stdout",
     "output_type": "stream",
     "text": [
      "User\n",
      " 3                                                                                                                                                                                                                         1\n",
      " 4                                                                                                                                                                                                                        26\n",
      " Android developer - to get an interview they need to finish this task                                                                                                                                                    13\n",
      " Business News - https                                                                                                                                                                                                     7\n",
      " Colonel's daughter in Shimla - https                                                                                                                                                                                     18\n",
      " Elite                                                                                                                                                                                                                     6\n",
      " Gautham BGV O+                                                                                                                                                                                                       173669\n",
      " Illakya                                                                                                                                                                                                                  34\n",
      " Karthi Kottupalayam                                                                                                                                                                                                    3834\n",
      " Magesh School                                                                                                                                                                                                         27123\n",
      " Mohan Vaithi Bro                                                                                                                                                                                                        217\n",
      " NDTV https                                                                                                                                                                                                              230\n",
      " Oneindia News - https                                                                                                                                                                                                    19\n",
      " Prem Coumar                                                                                                                                                                                                           91782\n",
      " Raj Loyola                                                                                                                                                                                                            11109\n",
      " Ram Kumar K Old                                                                                                                                                                                                       34650\n",
      " Sales & Collections / Pondicherry - Jobs in... https                                                                                                                                                                      6\n",
      " Saravanan New                                                                                                                                                                                                         21729\n",
      " Shankar                                                                                                                                                                                                               37093\n",
      " Suresh Kirumi                                                                                                                                                                                                         69587\n",
      " The Economic Times-https                                                                                                                                                                                                 36\n",
      " The Hindu Business Line - http                                                                                                                                                                                            8\n",
      " Timings, Charges, Cancellation And Other Details - NDTV https                                                                                                                                                            -1\n",
      " Uthayan                                                                                                                                                                                                                 201\n",
      " V1                                                                                                                                                                                                                    98468\n",
      " Vaithi Saravanan Frnd                                                                                                                                                                                                   214\n",
      " bit.ly/getfrapp -  and use my referral code                                                                                                                                                                               5\n",
      " http                                                                                                                                                                                                                     79\n",
      " https                                                                                                                                                                                                                   189\n",
      "* https                                                                                                                                                                                                                    5\n",
      "1B visa rule favouring advance degree holders to impact Indian IT companies                                                                                                                                               12\n",
      "2                                                                                                                                                                                                                         25\n",
      "23 do in India? by Himanshu Chauhan https                                                                                                                                                                                  5\n",
      "5                                                                                                                                                                                                                         -1\n",
      "I data confirms presence of ice on Moon                                                                                                                                                                                    1\n",
      "Pak talks                                                                                                                                                                                                                  7\n",
      "Sterlite protests                                                                                                                                                                                                         -1\n",
      "Tube Baby, Declares Yogi Adityanath's Deputy - NDTV https                                                                                                                                                                  4\n",
      "drinkers will be eligible for gold medal, says Pune University rule book. http                                                                                                                                            -2\n",
      "faced again                                                                                                                                                                                                               -2\n",
      "fee card http                                                                                                                                                                                                              1\n",
      "founder                                                                                                                                                                                                                   28\n",
      "gallery/925944/uber-partners-with-nasa-to-develop-flying-taxis-heres-how-it-looks-like/                                                                                                                                   38\n",
      "gallery/944488/qs-university-university-rankings-for-brics-good-news-2-indian-varsities-made-the-cut-in-top-10-check-out-full-list/                                                                                        7\n",
      "gallery/948329/ugc-suspends-engineering-degrees-awarded-by-these-universities-check-if-your-alma-mater-is-on-the-list/                                                                                                    12\n",
      "http                                                                                                                                                                                                                      10\n",
      "loses-in-arbitration-required-to-pay-rajiv-bansal-rs-12-1-crore-plus-interest/articleshow/65853188.cms?utm_source=AMPusers&utm_medium=whatsappshare&utm_campaign=socialsharebutton - Download ET Markets APP (http         7\n",
      "out                                                                                                                                                                                                                        4\n",
      "road bridge                                                                                                                                                                                                               19\n",
      "tickets-https                                                                                                                                                                                                             12\n",
      "turn on Panaya - The Economic Times-https                                                                                                                                                                                 20\n",
      "unable-to-keep-pace-tcs-to-outperform-on-bourses-too/articleshow/64983337.cms?utm_source=AMPusers&utm_medium=whatsappshare&utm_campaign=socialsharebutton - Download ET Markets APP (http                                 23\n",
      "ups may add years to your life                                                                                                                                                                                             0\n",
      "wheelers from 1 December, says govt - http                                                                                                                                                                                 5\n",
      "Name: Message Characters, dtype: int64\n"
     ]
    }
   ],
   "source": [
    "char_length = df.groupby(['User'])['Message Characters'].sum()\n",
    "print(char_length)"
   ]
  },
  {
   "cell_type": "code",
   "execution_count": 30,
   "metadata": {},
   "outputs": [
    {
     "name": "stdout",
     "output_type": "stream",
     "text": [
      "User\n",
      " 3                                                                                                                                                                                                                        1\n",
      " 4                                                                                                                                                                                                                        5\n",
      " Android developer - to get an interview they need to finish this task                                                                                                                                                    4\n",
      " Business News - https                                                                                                                                                                                                    2\n",
      " Colonel's daughter in Shimla - https                                                                                                                                                                                     3\n",
      " Elite                                                                                                                                                                                                                    1\n",
      " Gautham BGV O+                                                                                                                                                                                                       44571\n",
      " Illakya                                                                                                                                                                                                                 13\n",
      " Karthi Kottupalayam                                                                                                                                                                                                    935\n",
      " Magesh School                                                                                                                                                                                                         6718\n",
      " Mohan Vaithi Bro                                                                                                                                                                                                        54\n",
      " NDTV https                                                                                                                                                                                                              57\n",
      " Oneindia News - https                                                                                                                                                                                                    4\n",
      " Prem Coumar                                                                                                                                                                                                          23352\n",
      " Raj Loyola                                                                                                                                                                                                            2662\n",
      " Ram Kumar K Old                                                                                                                                                                                                       8815\n",
      " Sales & Collections / Pondicherry - Jobs in... https                                                                                                                                                                     3\n",
      " Saravanan New                                                                                                                                                                                                         5521\n",
      " Shankar                                                                                                                                                                                                               9122\n",
      " Suresh Kirumi                                                                                                                                                                                                        17601\n",
      " The Economic Times-https                                                                                                                                                                                                19\n",
      " The Hindu Business Line - http                                                                                                                                                                                           2\n",
      " Timings, Charges, Cancellation And Other Details - NDTV https                                                                                                                                                            2\n",
      " Uthayan                                                                                                                                                                                                                 40\n",
      " V1                                                                                                                                                                                                                   25133\n",
      " Vaithi Saravanan Frnd                                                                                                                                                                                                   41\n",
      " bit.ly/getfrapp -  and use my referral code                                                                                                                                                                              2\n",
      " http                                                                                                                                                                                                                    17\n",
      " https                                                                                                                                                                                                                   38\n",
      "* https                                                                                                                                                                                                                   2\n",
      "1B visa rule favouring advance degree holders to impact Indian IT companies                                                                                                                                               3\n",
      "2                                                                                                                                                                                                                         6\n",
      "23 do in India? by Himanshu Chauhan https                                                                                                                                                                                 2\n",
      "5                                                                                                                                                                                                                         2\n",
      "I data confirms presence of ice on Moon                                                                                                                                                                                   1\n",
      "Pak talks                                                                                                                                                                                                                 3\n",
      "Sterlite protests                                                                                                                                                                                                         2\n",
      "Tube Baby, Declares Yogi Adityanath's Deputy - NDTV https                                                                                                                                                                 1\n",
      "drinkers will be eligible for gold medal, says Pune University rule book. http                                                                                                                                            2\n",
      "faced again                                                                                                                                                                                                               2\n",
      "fee card http                                                                                                                                                                                                             1\n",
      "founder                                                                                                                                                                                                                   6\n",
      "gallery/925944/uber-partners-with-nasa-to-develop-flying-taxis-heres-how-it-looks-like/                                                                                                                                   7\n",
      "gallery/944488/qs-university-university-rankings-for-brics-good-news-2-indian-varsities-made-the-cut-in-top-10-check-out-full-list/                                                                                       3\n",
      "gallery/948329/ugc-suspends-engineering-degrees-awarded-by-these-universities-check-if-your-alma-mater-is-on-the-list/                                                                                                    3\n",
      "http                                                                                                                                                                                                                      4\n",
      "loses-in-arbitration-required-to-pay-rajiv-bansal-rs-12-1-crore-plus-interest/articleshow/65853188.cms?utm_source=AMPusers&utm_medium=whatsappshare&utm_campaign=socialsharebutton - Download ET Markets APP (http        2\n",
      "out                                                                                                                                                                                                                       2\n",
      "road bridge                                                                                                                                                                                                               4\n",
      "tickets-https                                                                                                                                                                                                             4\n",
      "turn on Panaya - The Economic Times-https                                                                                                                                                                                 5\n",
      "unable-to-keep-pace-tcs-to-outperform-on-bourses-too/articleshow/64983337.cms?utm_source=AMPusers&utm_medium=whatsappshare&utm_campaign=socialsharebutton - Download ET Markets APP (http                                 5\n",
      "ups may add years to your life                                                                                                                                                                                            2\n",
      "wheelers from 1 December, says govt - http                                                                                                                                                                                2\n",
      "Name: Word Length, dtype: int64\n"
     ]
    }
   ],
   "source": [
    "word_length=df.groupby(['User'])['Word Length'].sum()\n",
    "print(word_length)"
   ]
  },
  {
   "cell_type": "code",
   "execution_count": 31,
   "metadata": {},
   "outputs": [
    {
     "name": "stdout",
     "output_type": "stream",
     "text": [
      "Media\n",
      "False       0.0\n",
      "True     2893.0\n",
      "Name: Media, dtype: float64\n"
     ]
    }
   ],
   "source": [
    "media = df.groupby(['Media'])['Media'].sum()\n",
    "print(media)"
   ]
  },
  {
   "cell_type": "code",
   "execution_count": 32,
   "metadata": {},
   "outputs": [
    {
     "name": "stdout",
     "output_type": "stream",
     "text": [
      "User                    Media\n",
      " Gautham BGV O+         True     927\n",
      " Karthi Kottupalayam    True      18\n",
      " Magesh School          True     131\n",
      " NDTV https             True       1\n",
      " Prem Coumar            True     453\n",
      " Raj Loyola             True      29\n",
      " Ram Kumar K Old        True     171\n",
      " Saravanan New          True     185\n",
      " Shankar                True     100\n",
      " Suresh Kirumi          True     364\n",
      " V1                     True     512\n",
      " Vaithi Saravanan Frnd  True       1\n",
      "tickets-https           True       1\n",
      "Name: Media, dtype: int64\n"
     ]
    }
   ],
   "source": [
    "media_df = df[df['Media']==True]\n",
    "media_per_user = media_df.groupby(['User','Media'])['Media'].count()\n",
    "print(media_per_user)"
   ]
  },
  {
   "cell_type": "code",
   "execution_count": 33,
   "metadata": {},
   "outputs": [
    {
     "name": "stdout",
     "output_type": "stream",
     "text": [
      "Year  Month  Media\n",
      "2017  9      True      49\n",
      "      10     True     183\n",
      "      11     True     196\n",
      "      12     True      90\n",
      "2018  1      True      87\n",
      "      2      True      83\n",
      "      3      True     302\n",
      "      4      True     149\n",
      "      5      True     129\n",
      "      6      True     120\n",
      "      7      True     117\n",
      "      8      True     261\n",
      "      9      True     275\n",
      "      10     True     132\n",
      "      11     True     113\n",
      "      12     True     250\n",
      "2019  1      True     289\n",
      "      2      True      63\n",
      "      3      True       5\n",
      "Name: Media, dtype: int64\n"
     ]
    }
   ],
   "source": [
    "media_df=df[df['Media']==True]\n",
    "media_per_month = media_df.groupby(['Year','Month','Media'])['Media'].count()\n",
    "print(media_per_month)"
   ]
  },
  {
   "cell_type": "code",
   "execution_count": 34,
   "metadata": {},
   "outputs": [
    {
     "data": {
      "text/plain": [
       "<matplotlib.axes._subplots.AxesSubplot at 0x3b33e468d0>"
      ]
     },
     "execution_count": 34,
     "metadata": {},
     "output_type": "execute_result"
    },
    {
     "data": {
      "image/png": "[encoded data removed]",
      "text/plain": [
       "<Figure size 432x288 with 1 Axes>"
      ]
     },
     "metadata": {
      "needs_background": "light"
     },
     "output_type": "display_data"
    }
   ],
   "source": [
    "import matplotlib.pyplot as plt\n",
    "%matplotlib inline\n",
    "\n",
    "users=df.groupby('User')['User'].count().nlargest(15)\n",
    "users.plot(kind=\"bar\")"
   ]
  },
  {
   "cell_type": "code",
   "execution_count": 35,
   "metadata": {},
   "outputs": [
    {
     "data": {
      "text/plain": [
       "<matplotlib.axes._subplots.AxesSubplot at 0x3b33f362b0>"
      ]
     },
     "execution_count": 35,
     "metadata": {},
     "output_type": "execute_result"
    },
    {
     "data": {
      "image/png": "[encoded data removed]",
      "text/plain": [
       "<Figure size 432x288 with 1 Axes>"
      ]
     },
     "metadata": {
      "needs_background": "light"
     },
     "output_type": "display_data"
    }
   ],
   "source": [
    "days=df.groupby('Date')['Date'].count().nlargest(15)\n",
    "days.plot(kind=\"bar\")"
   ]
  },
  {
   "cell_type": "code",
   "execution_count": 36,
   "metadata": {},
   "outputs": [
    {
     "data": {
      "text/plain": [
       "<matplotlib.axes._subplots.AxesSubplot at 0x3b33c7dda0>"
      ]
     },
     "execution_count": 36,
     "metadata": {},
     "output_type": "execute_result"
    },
    {
     "data": {
      "image/png": "[encoded data removed]",
      "text/plain": [
       "<Figure size 432x288 with 1 Axes>"
      ]
     },
     "metadata": {
      "needs_background": "light"
     },
     "output_type": "display_data"
    }
   ],
   "source": [
    "date=df.groupby('Date')['Date'].count().nlargest(10)\n",
    "date.plot(kind=\"line\")"
   ]
  },
  {
   "cell_type": "code",
   "execution_count": 37,
   "metadata": {},
   "outputs": [
    {
     "data": {
      "text/plain": [
       "<matplotlib.axes._subplots.AxesSubplot at 0x3b309d3940>"
      ]
     },
     "execution_count": 37,
     "metadata": {},
     "output_type": "execute_result"
    },
    {
     "data": {
      "image/png": "[encoded data removed]",
      "text/plain": [
       "<Figure size 432x288 with 1 Axes>"
      ]
     },
     "metadata": {},
     "output_type": "display_data"
    }
   ],
   "source": [
    "user=df.groupby('User')['User'].count().nlargest(15)\n",
    "user.plot(kind=\"pie\")"
   ]
  },
  {
   "cell_type": "code",
   "execution_count": 38,
   "metadata": {},
   "outputs": [
    {
     "data": {
      "text/plain": [
       "<matplotlib.axes._subplots.AxesSubplot at 0x3b340a7c88>"
      ]
     },
     "execution_count": 38,
     "metadata": {},
     "output_type": "execute_result"
    },
    {
     "data": {
      "image/png": "[encoded data removed]",
      "text/plain": [
       "<Figure size 432x288 with 1 Axes>"
      ]
     },
     "metadata": {},
     "output_type": "display_data"
    }
   ],
   "source": [
    "media_df=df[df['Media']==True]\n",
    "media_per_user_group=media_df.groupby(['User','Media'])['Media'].count().nlargest(15)\n",
    "media_per_user_group.plot(kind=\"pie\")"
   ]
  },
  {
   "cell_type": "code",
   "execution_count": 39,
   "metadata": {},
   "outputs": [
    {
     "data": {
      "text/plain": [
       "<matplotlib.axes._subplots.AxesSubplot at 0x3b33e5c908>"
      ]
     },
     "execution_count": 39,
     "metadata": {},
     "output_type": "execute_result"
    },
    {
     "data": {
      "image/png": "[encoded data removed]",
      "text/plain": [
       "<Figure size 432x288 with 1 Axes>"
      ]
     },
     "metadata": {},
     "output_type": "display_data"
    }
   ],
   "source": [
    "word_count=df.groupby(['User'])['Word Length'].sum().nlargest(15)\n",
    "word_count.plot(kind=\"pie\")"
   ]
  },
  {
   "cell_type": "code",
   "execution_count": 40,
   "metadata": {},
   "outputs": [
    {
     "data": {
      "text/plain": [
       "<matplotlib.axes._subplots.AxesSubplot at 0x3b3417a278>"
      ]
     },
     "execution_count": 40,
     "metadata": {},
     "output_type": "execute_result"
    },
    {
     "data": {
      "image/png": "[encoded data removed]",
      "text/plain": [
       "<Figure size 432x288 with 1 Axes>"
      ]
     },
     "metadata": {
      "needs_background": "light"
     },
     "output_type": "display_data"
    }
   ],
   "source": [
    "active_hour=df.groupby(['Date','Hours'])['Hours'].count().nlargest(10)\n",
    "active_hour.plot(kind=\"bar\")"
   ]
  },
  {
   "cell_type": "code",
   "execution_count": 41,
   "metadata": {},
   "outputs": [
    {
     "data": {
      "text/plain": [
       "<matplotlib.axes._subplots.AxesSubplot at 0x3b341ec588>"
      ]
     },
     "execution_count": 41,
     "metadata": {},
     "output_type": "execute_result"
    },
    {
     "data": {
      "image/png": "[encoded data removed]",
      "text/plain": [
       "<Figure size 432x288 with 1 Axes>"
      ]
     },
     "metadata": {
      "needs_background": "light"
     },
     "output_type": "display_data"
    }
   ],
   "source": [
    "active_month=df.groupby(['Year','Month'])['Month'].count().nlargest(15)\n",
    "active_month.plot(kind=\"bar\")"
   ]
  },
  {
   "cell_type": "code",
   "execution_count": 42,
   "metadata": {},
   "outputs": [
    {
     "data": {
      "text/plain": [
       "<matplotlib.axes._subplots.AxesSubplot at 0x3b342650b8>"
      ]
     },
     "execution_count": 42,
     "metadata": {},
     "output_type": "execute_result"
    },
    {
     "data": {
      "image/png": "[encoded data removed]",
      "text/plain": [
       "<Figure size 432x288 with 1 Axes>"
      ]
     },
     "metadata": {
      "needs_background": "light"
     },
     "output_type": "display_data"
    }
   ],
   "source": [
    "active_hour_line_group=df.groupby(['Day','Hours'])['Hours'].count()\n",
    "active_hour_line_group.plot(kind=\"line\")"
   ]
  }
 ],
 "metadata": {
  "kernelspec": {
   "display_name": "Python 3",
   "language": "python",
   "name": "python3"
  },
  "language_info": {
   "codemirror_mode": {
    "name": "ipython",
    "version": 3
   },
   "file_extension": ".py",
   "mimetype": "text/x-python",
   "name": "python",
   "nbconvert_exporter": "python",
   "pygments_lexer": "ipython3",
   "version": "3.7.0"
  }
 },
 "nbformat": 4,
 "nbformat_minor": 2
}
